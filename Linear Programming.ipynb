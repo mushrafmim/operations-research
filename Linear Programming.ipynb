{
 "cells": [
  {
   "cell_type": "markdown",
   "metadata": {},
   "source": [
    "1. A manufacturer produced equipment E1 and E2, each equipment of E1 requires 4 hours of grinding\n",
    "and 2 hours of polishing, whereas equipment type 2 requires 2 hours of grinding and 5 hours of\n",
    "polishing. The manufacturer has 2 grinders and 3 polishers. Each grinder works 40 hours per week\n",
    "while each polisher works 60 hours per week. Profit from E1 is 3$ and 4$ from E2. Whatever is\n",
    "produced in a week is sold in the market. How should the manufacturer allocate his production\n",
    "capacity to the two types of equipment, so that the profit is maximized.\n",
    "\n",
    "\n",
    "#### Solution\n",
    "Let,\n",
    "\n",
    "> $x_1$ number of E1 equipment  \n",
    "> $x_2$ number of E2 equipment\n",
    "\n",
    "is manufuctured per week.\n",
    "\n",
    "\n",
    "We need to optimize  \n",
    "> $ P = 3x_1 + 4x_2 $ - Objective Function  \n",
    "\n",
    "Under  \n",
    "> $ 4x_1+2x_2 \\le 80$  (Grinding hours)  \n",
    "> $ 2x_1+5x_2 \\le 180$  (Polishing hours)  \n",
    "> $ x_1, x_2 \\gt 0$ (Non negativity constraint)\n",
    "\n",
    "the constraints."
   ]
  },
  {
   "cell_type": "code",
   "execution_count": 7,
   "metadata": {},
   "outputs": [
    {
     "name": "stdout",
     "output_type": "stream",
     "text": [
      "Number of E1 equipments to be produced: 2.5\n",
      "Number of E2 equipments to be produced 35.0\n",
      "Maximal profit: 147.5 $\n"
     ]
    }
   ],
   "source": [
    "from scipy.optimize import linprog\n",
    "\n",
    "# Coefficients of the objective function to be minimized\n",
    "c = [-3, -4]  # coefficients are negated because linprog minimizes\n",
    "\n",
    "# Coefficients matrix for the inequality constraints\n",
    "A = [\n",
    "    [4, 2],  # Coefficients for the grinding hours constraint\n",
    "    [2, 5]   # Coefficients for the polishing hours constraint\n",
    "]\n",
    "\n",
    "# Right-hand side of the inequality constraints\n",
    "b = [80, 180]  # Available grinding and polishing hours\n",
    "\n",
    "# Bounds for variables (non-negativity constraints)\n",
    "x_bounds = (0, None)  # x >= 0\n",
    "y_bounds = (0, None)  # y >= 0\n",
    "\n",
    "# Solve the linear programming problem\n",
    "result = linprog(c, A_ub=A, b_ub=b, bounds=[x_bounds, y_bounds], method='highs')\n",
    "\n",
    "# Display the results\n",
    "if result.success:\n",
    "    x_optimal = result.x[0]\n",
    "    y_optimal = result.x[1]\n",
    "    profit_maximal = -result.fun  # The objective function value is negated in linprog\n",
    "    print(f\"Number of E1 equipments to be produced: {x_optimal}\")\n",
    "    print(f\"Number of E2 equipments to be produced {y_optimal}\")\n",
    "    print(f\"Maximal profit: {profit_maximal} $\")\n",
    "else:\n",
    "    print(\"Optimization failed. Check the input constraints.\")\n"
   ]
  },
  {
   "cell_type": "markdown",
   "metadata": {},
   "source": [
    "2. A paper mill produces two types of papers namely A and B and production capacity is limited to 400\n",
    "tons of grade A and 300 tons of grade B papers per sheet due to raw material restrictions. There are\n",
    "160 production hours in a week, and it requires 0.2 and 0.4 hours to produce a ton of paper A and B\n",
    "respectively with corresponding profit of Rs 200 and Rs 500 per ton. Formulate the above as a LLP\n",
    "to maximise the profit and find the optimum product mix."
   ]
  },
  {
   "cell_type": "code",
   "execution_count": 9,
   "metadata": {},
   "outputs": [
    {
     "name": "stdout",
     "output_type": "stream",
     "text": [
      "Tons of Type A Paper to be produced: 0.0\n",
      "Tons of Type B paper to be produced: 400.0\n",
      "Maximal profit: Rs. 200000.0\n"
     ]
    }
   ],
   "source": [
    "# Coefficients of the objective function to be minimized\n",
    "c = [-200, -500]  # coefficients are negated because linprog minimizes\n",
    "\n",
    "# Coefficients matrix for the inequality constraints\n",
    "A = [\n",
    "    [0.2, 0.4],  # Coefficients for the production hour constraint\n",
    "]\n",
    "\n",
    "# Right-hand side of the inequality constraints\n",
    "b = [160]  # Available production hours\n",
    "\n",
    "# Bounds for variables (non-negativity constraints)\n",
    "x_bounds = (0, 300)  # x >= 0 and x <= 300 (Due to type A paper limit)\n",
    "y_bounds = (0, 400)  # y >= 0 and y <= 400 (Due to type B paper limit)\n",
    "\n",
    "# Solve the linear programming problem\n",
    "result = linprog(c, A_ub=A, b_ub=b, bounds=[x_bounds, y_bounds], method='highs')\n",
    "\n",
    "# Display the results\n",
    "if result.success:\n",
    "    x_optimal = result.x[0]\n",
    "    y_optimal = result.x[1]\n",
    "    profit_maximal = -result.fun  # The objective function value is negated in linprog\n",
    "    print(f\"Tons of Type A Paper to be produced: {x_optimal}\")\n",
    "    print(f\"Tons of Type B paper to be produced: {y_optimal}\")\n",
    "    print(f\"Maximal profit: Rs. {profit_maximal}\")\n",
    "else:\n",
    "    print(\"Optimization failed. Check the input constraints.\")"
   ]
  },
  {
   "cell_type": "code",
   "execution_count": null,
   "metadata": {},
   "outputs": [],
   "source": []
  }
 ],
 "metadata": {
  "kernelspec": {
   "display_name": "venv",
   "language": "python",
   "name": "python3"
  },
  "language_info": {
   "codemirror_mode": {
    "name": "ipython",
    "version": 3
   },
   "file_extension": ".py",
   "mimetype": "text/x-python",
   "name": "python",
   "nbconvert_exporter": "python",
   "pygments_lexer": "ipython3",
   "version": "3.10.12"
  }
 },
 "nbformat": 4,
 "nbformat_minor": 2
}
